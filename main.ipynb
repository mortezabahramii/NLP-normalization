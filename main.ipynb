{
  "nbformat": 4,
  "nbformat_minor": 0,
  "metadata": {
    "colab": {
      "provenance": []
    },
    "kernelspec": {
      "name": "python3",
      "display_name": "Python 3"
    },
    "language_info": {
      "name": "python"
    }
  },
  "cells": [
    {
      "cell_type": "code",
      "execution_count": 1,
      "metadata": {
        "id": "d2-72x3SbF1h"
      },
      "outputs": [],
      "source": [
        "import nltk\n",
        "from nltk.corpus import stopwords\n",
        "from nltk.tokenize import word_tokenize, sent_tokenize\n",
        "from nltk.stem import WordNetLemmatizer\n",
        "from nltk.stem import PorterStemmer\n",
        "from nltk.probability import FreqDist\n",
        "import string"
      ]
    },
    {
      "cell_type": "code",
      "source": [
        "from sklearn.datasets import fetch_20newsgroups"
      ],
      "metadata": {
        "id": "lKE7b69lw6Ae"
      },
      "execution_count": 2,
      "outputs": []
    },
    {
      "cell_type": "code",
      "source": [
        "text_data = fetch_20newsgroups()\n",
        "raw_data = text_data.data\n",
        "len(raw_data)"
      ],
      "metadata": {
        "colab": {
          "base_uri": "https://localhost:8080/"
        },
        "id": "4OgsvW2lw-b3",
        "outputId": "16d927a0-2077-4115-9f46-911bbdeb8e65"
      },
      "execution_count": 3,
      "outputs": [
        {
          "output_type": "execute_result",
          "data": {
            "text/plain": [
              "11314"
            ]
          },
          "metadata": {},
          "execution_count": 3
        }
      ]
    },
    {
      "cell_type": "code",
      "source": [
        "raw_data[0]"
      ],
      "metadata": {
        "colab": {
          "base_uri": "https://localhost:8080/",
          "height": 108
        },
        "id": "FRlanra3xHPo",
        "outputId": "3530a2f9-42a6-4fb3-9bb4-ed96eca09f47"
      },
      "execution_count": 4,
      "outputs": [
        {
          "output_type": "execute_result",
          "data": {
            "text/plain": [
              "\"From: lerxst@wam.umd.edu (where's my thing)\\nSubject: WHAT car is this!?\\nNntp-Posting-Host: rac3.wam.umd.edu\\nOrganization: University of Maryland, College Park\\nLines: 15\\n\\n I was wondering if anyone out there could enlighten me on this car I saw\\nthe other day. It was a 2-door sports car, looked to be from the late 60s/\\nearly 70s. It was called a Bricklin. The doors were really small. In addition,\\nthe front bumper was separate from the rest of the body. This is \\nall I know. If anyone can tellme a model name, engine specs, years\\nof production, where this car is made, history, or whatever info you\\nhave on this funky looking car, please e-mail.\\n\\nThanks,\\n- IL\\n   ---- brought to you by your neighborhood Lerxst ----\\n\\n\\n\\n\\n\""
            ],
            "application/vnd.google.colaboratory.intrinsic+json": {
              "type": "string"
            }
          },
          "metadata": {},
          "execution_count": 4
        }
      ]
    },
    {
      "cell_type": "markdown",
      "source": [
        "Lowercasing"
      ],
      "metadata": {
        "id": "EaIanCIT1RwO"
      }
    },
    {
      "cell_type": "code",
      "source": [
        "# Lowercasing\n",
        "\n",
        "raw_data_lowercase = [str.lower(words) for words in raw_data]\n",
        "raw_data_lowercase[0]"
      ],
      "metadata": {
        "id": "nYgvGIX61WGG",
        "colab": {
          "base_uri": "https://localhost:8080/",
          "height": 108
        },
        "outputId": "70df6413-6e90-4e5d-82af-b9ea6465135f"
      },
      "execution_count": 5,
      "outputs": [
        {
          "output_type": "execute_result",
          "data": {
            "text/plain": [
              "\"from: lerxst@wam.umd.edu (where's my thing)\\nsubject: what car is this!?\\nnntp-posting-host: rac3.wam.umd.edu\\norganization: university of maryland, college park\\nlines: 15\\n\\n i was wondering if anyone out there could enlighten me on this car i saw\\nthe other day. it was a 2-door sports car, looked to be from the late 60s/\\nearly 70s. it was called a bricklin. the doors were really small. in addition,\\nthe front bumper was separate from the rest of the body. this is \\nall i know. if anyone can tellme a model name, engine specs, years\\nof production, where this car is made, history, or whatever info you\\nhave on this funky looking car, please e-mail.\\n\\nthanks,\\n- il\\n   ---- brought to you by your neighborhood lerxst ----\\n\\n\\n\\n\\n\""
            ],
            "application/vnd.google.colaboratory.intrinsic+json": {
              "type": "string"
            }
          },
          "metadata": {},
          "execution_count": 5
        }
      ]
    },
    {
      "cell_type": "markdown",
      "source": [
        "Tokenization"
      ],
      "metadata": {
        "id": "OHMid22WvzJW"
      }
    },
    {
      "cell_type": "code",
      "source": [
        "# Tokenization\n",
        "nltk.download('punkt')\n",
        "raw_data_sent = []\n",
        "\n",
        "for item in raw_data_lowercase:\n",
        "  raw_data_sent.append(sent_tokenize(item))"
      ],
      "metadata": {
        "colab": {
          "base_uri": "https://localhost:8080/"
        },
        "id": "qKoY8TruvCFV",
        "outputId": "a9fef1b5-3c00-4374-f4e8-3516e1ac3d49"
      },
      "execution_count": 6,
      "outputs": [
        {
          "output_type": "stream",
          "name": "stderr",
          "text": [
            "[nltk_data] Downloading package punkt to /root/nltk_data...\n",
            "[nltk_data]   Unzipping tokenizers/punkt.zip.\n"
          ]
        }
      ]
    },
    {
      "cell_type": "code",
      "source": [
        "raw_data_sent[0]"
      ],
      "metadata": {
        "colab": {
          "base_uri": "https://localhost:8080/"
        },
        "id": "xZFjekjGzm4H",
        "outputId": "8a9a0484-992a-45f7-8eaf-5c265138d843"
      },
      "execution_count": 7,
      "outputs": [
        {
          "output_type": "execute_result",
          "data": {
            "text/plain": [
              "[\"from: lerxst@wam.umd.edu (where's my thing)\\nsubject: what car is this!?\",\n",
              " 'nntp-posting-host: rac3.wam.umd.edu\\norganization: university of maryland, college park\\nlines: 15\\n\\n i was wondering if anyone out there could enlighten me on this car i saw\\nthe other day.',\n",
              " 'it was a 2-door sports car, looked to be from the late 60s/\\nearly 70s.',\n",
              " 'it was called a bricklin.',\n",
              " 'the doors were really small.',\n",
              " 'in addition,\\nthe front bumper was separate from the rest of the body.',\n",
              " 'this is \\nall i know.',\n",
              " 'if anyone can tellme a model name, engine specs, years\\nof production, where this car is made, history, or whatever info you\\nhave on this funky looking car, please e-mail.',\n",
              " 'thanks,\\n- il\\n   ---- brought to you by your neighborhood lerxst ----']"
            ]
          },
          "metadata": {},
          "execution_count": 7
        }
      ]
    },
    {
      "cell_type": "code",
      "source": [
        "# Tokenization\n",
        "nltk.download('punkt')\n",
        "raw_data_token = []\n",
        "\n",
        "for item in raw_data_lowercase:\n",
        "  raw_data_token.append(word_tokenize(item))"
      ],
      "metadata": {
        "colab": {
          "base_uri": "https://localhost:8080/"
        },
        "id": "SRtg7AAdvSPR",
        "outputId": "66f8d62e-cf85-45f3-9c28-ccca51cd017a"
      },
      "execution_count": 8,
      "outputs": [
        {
          "output_type": "stream",
          "name": "stderr",
          "text": [
            "[nltk_data] Downloading package punkt to /root/nltk_data...\n",
            "[nltk_data]   Package punkt is already up-to-date!\n"
          ]
        }
      ]
    },
    {
      "cell_type": "code",
      "source": [
        "raw_data_token[0][:20]"
      ],
      "metadata": {
        "colab": {
          "base_uri": "https://localhost:8080/"
        },
        "id": "_J_YnjNrz0iu",
        "outputId": "5f38bdb7-fa62-4b41-cca3-0546dcfdc8d8"
      },
      "execution_count": 9,
      "outputs": [
        {
          "output_type": "execute_result",
          "data": {
            "text/plain": [
              "['from',\n",
              " ':',\n",
              " 'lerxst',\n",
              " '@',\n",
              " 'wam.umd.edu',\n",
              " '(',\n",
              " 'where',\n",
              " \"'s\",\n",
              " 'my',\n",
              " 'thing',\n",
              " ')',\n",
              " 'subject',\n",
              " ':',\n",
              " 'what',\n",
              " 'car',\n",
              " 'is',\n",
              " 'this',\n",
              " '!',\n",
              " '?',\n",
              " 'nntp-posting-host']"
            ]
          },
          "metadata": {},
          "execution_count": 9
        }
      ]
    },
    {
      "cell_type": "markdown",
      "source": [
        "Removing Punctuation and Numbers"
      ],
      "metadata": {
        "id": "SG4WUNna29jc"
      }
    },
    {
      "cell_type": "code",
      "source": [
        "# Removing Punctuation and Numbers\n",
        "\n",
        "raw_data_Punc = []\n",
        "\n",
        "for item in raw_data_token:\n",
        "  words = []\n",
        "  for word in item:\n",
        "    if word.isalpha():\n",
        "      words.append(word)\n",
        "  raw_data_Punc.append(words)\n",
        "\n",
        "raw_data_Punc[0][:20]"
      ],
      "metadata": {
        "colab": {
          "base_uri": "https://localhost:8080/"
        },
        "id": "1HwyU04w24Q_",
        "outputId": "cb649762-3bdc-443d-e3bd-7aeb24143275"
      },
      "execution_count": 10,
      "outputs": [
        {
          "output_type": "execute_result",
          "data": {
            "text/plain": [
              "['from',\n",
              " 'lerxst',\n",
              " 'where',\n",
              " 'my',\n",
              " 'thing',\n",
              " 'subject',\n",
              " 'what',\n",
              " 'car',\n",
              " 'is',\n",
              " 'this',\n",
              " 'organization',\n",
              " 'university',\n",
              " 'of',\n",
              " 'maryland',\n",
              " 'college',\n",
              " 'park',\n",
              " 'lines',\n",
              " 'i',\n",
              " 'was',\n",
              " 'wondering']"
            ]
          },
          "metadata": {},
          "execution_count": 10
        }
      ]
    },
    {
      "cell_type": "markdown",
      "source": [
        "Stopword Removal"
      ],
      "metadata": {
        "id": "pBaYDGsf4hUw"
      }
    },
    {
      "cell_type": "code",
      "source": [
        "# Stopword Removal\n",
        "nltk.download('stopwords')\n",
        "stop_words = set(stopwords.words('english'))\n",
        "\n",
        "raw_data_stopword = []\n",
        "\n",
        "for item in raw_data_Punc:\n",
        "  words = []\n",
        "  for word in item:\n",
        "    if word not in stop_words:\n",
        "      words.append(word)\n",
        "  raw_data_stopword.append(words)\n",
        "\n",
        "raw_data_stopword[0][:20]"
      ],
      "metadata": {
        "colab": {
          "base_uri": "https://localhost:8080/"
        },
        "id": "rI8uumup4hjh",
        "outputId": "3ebae775-9f0f-44c7-fc9c-7751d860342d"
      },
      "execution_count": 11,
      "outputs": [
        {
          "output_type": "stream",
          "name": "stderr",
          "text": [
            "[nltk_data] Downloading package stopwords to /root/nltk_data...\n",
            "[nltk_data]   Unzipping corpora/stopwords.zip.\n"
          ]
        },
        {
          "output_type": "execute_result",
          "data": {
            "text/plain": [
              "['lerxst',\n",
              " 'thing',\n",
              " 'subject',\n",
              " 'car',\n",
              " 'organization',\n",
              " 'university',\n",
              " 'maryland',\n",
              " 'college',\n",
              " 'park',\n",
              " 'lines',\n",
              " 'wondering',\n",
              " 'anyone',\n",
              " 'could',\n",
              " 'enlighten',\n",
              " 'car',\n",
              " 'saw',\n",
              " 'day',\n",
              " 'sports',\n",
              " 'car',\n",
              " 'looked']"
            ]
          },
          "metadata": {},
          "execution_count": 11
        }
      ]
    },
    {
      "cell_type": "markdown",
      "source": [
        "Lemmatization and Stemming"
      ],
      "metadata": {
        "id": "GmHK4WOw9gmY"
      }
    },
    {
      "cell_type": "code",
      "source": [
        "# Lemmatization\n",
        "nltk.download('wordnet')\n",
        "lemmatizer = WordNetLemmatizer()"
      ],
      "metadata": {
        "colab": {
          "base_uri": "https://localhost:8080/"
        },
        "id": "VWhzcUaF5MhO",
        "outputId": "bf8b24cb-c1cf-41a9-8166-7e91d47dc031"
      },
      "execution_count": 12,
      "outputs": [
        {
          "output_type": "stream",
          "name": "stderr",
          "text": [
            "[nltk_data] Downloading package wordnet to /root/nltk_data...\n"
          ]
        }
      ]
    },
    {
      "cell_type": "code",
      "source": [
        "# Stemming\n",
        "stemmer = PorterStemmer()"
      ],
      "metadata": {
        "id": "IsJlRl2Y6COP"
      },
      "execution_count": 13,
      "outputs": []
    },
    {
      "cell_type": "code",
      "source": [
        "print(\"Stem\", stemmer.stem(\"feet\"))\n",
        "print(\"lemmat\", lemmatizer.lemmatize(\"feet\"))"
      ],
      "metadata": {
        "colab": {
          "base_uri": "https://localhost:8080/"
        },
        "id": "pEpilt4k6EI3",
        "outputId": "06688320-aec7-43a7-f6b7-82dcce4e8011"
      },
      "execution_count": 14,
      "outputs": [
        {
          "output_type": "stream",
          "name": "stdout",
          "text": [
            "Stem feet\n",
            "lemmat foot\n"
          ]
        }
      ]
    },
    {
      "cell_type": "code",
      "source": [
        "print(\"Stem\", stemmer.stem(\"went\"))\n",
        "print(\"lemmat\", lemmatizer.lemmatize(\"went\"))\n",
        "print(\"lemmat\", lemmatizer.lemmatize(\"went\", \"v\"))"
      ],
      "metadata": {
        "colab": {
          "base_uri": "https://localhost:8080/"
        },
        "id": "t87EsQ5u6J3o",
        "outputId": "a0bebe87-b5b3-45f3-b267-79237fbcecac"
      },
      "execution_count": 15,
      "outputs": [
        {
          "output_type": "stream",
          "name": "stdout",
          "text": [
            "Stem went\n",
            "lemmat went\n",
            "lemmat go\n"
          ]
        }
      ]
    },
    {
      "cell_type": "code",
      "source": [
        "# Lemmatization\n",
        "\n",
        "raw_data_lemmat = []\n",
        "\n",
        "for item in raw_data_stopword:\n",
        "  words = []\n",
        "  for word in item:\n",
        "      words.append(lemmatizer.lemmatize(word))\n",
        "  raw_data_lemmat.append(words)"
      ],
      "metadata": {
        "id": "Vi4GB4ub-OCu"
      },
      "execution_count": 16,
      "outputs": []
    },
    {
      "cell_type": "code",
      "source": [
        "# Stemming\n",
        "\n",
        "raw_data_stemm = []\n",
        "\n",
        "for item in raw_data_lemmat:\n",
        "  words = []\n",
        "  for word in item:\n",
        "      words.append(stemmer.stem(word))\n",
        "  raw_data_stemm.append(words)"
      ],
      "metadata": {
        "id": "gaWmWJ5i-hQg"
      },
      "execution_count": 17,
      "outputs": []
    },
    {
      "cell_type": "code",
      "source": [
        "raw_data_stemm[0]"
      ],
      "metadata": {
        "colab": {
          "base_uri": "https://localhost:8080/"
        },
        "id": "qc0KZBau-tRj",
        "outputId": "6839ccb1-2019-4d5a-c305-5815f2ac721c"
      },
      "execution_count": 18,
      "outputs": [
        {
          "output_type": "execute_result",
          "data": {
            "text/plain": [
              "['lerxst',\n",
              " 'thing',\n",
              " 'subject',\n",
              " 'car',\n",
              " 'organ',\n",
              " 'univers',\n",
              " 'maryland',\n",
              " 'colleg',\n",
              " 'park',\n",
              " 'line',\n",
              " 'wonder',\n",
              " 'anyon',\n",
              " 'could',\n",
              " 'enlighten',\n",
              " 'car',\n",
              " 'saw',\n",
              " 'day',\n",
              " 'sport',\n",
              " 'car',\n",
              " 'look',\n",
              " 'late',\n",
              " 'earli',\n",
              " 'call',\n",
              " 'bricklin',\n",
              " 'door',\n",
              " 'realli',\n",
              " 'small',\n",
              " 'addit',\n",
              " 'front',\n",
              " 'bumper',\n",
              " 'separ',\n",
              " 'rest',\n",
              " 'bodi',\n",
              " 'know',\n",
              " 'anyon',\n",
              " 'tellm',\n",
              " 'model',\n",
              " 'name',\n",
              " 'engin',\n",
              " 'spec',\n",
              " 'year',\n",
              " 'product',\n",
              " 'car',\n",
              " 'made',\n",
              " 'histori',\n",
              " 'whatev',\n",
              " 'info',\n",
              " 'funki',\n",
              " 'look',\n",
              " 'car',\n",
              " 'pleas',\n",
              " 'thank',\n",
              " 'il',\n",
              " 'brought',\n",
              " 'neighborhood',\n",
              " 'lerxst']"
            ]
          },
          "metadata": {},
          "execution_count": 18
        }
      ]
    },
    {
      "cell_type": "markdown",
      "source": [
        "Frequency Distribution"
      ],
      "metadata": {
        "id": "xpKVapDy_NOx"
      }
    },
    {
      "cell_type": "code",
      "source": [
        "from itertools import chain\n",
        "\n",
        "raw_data_stemm_flattern = list(chain.from_iterable(raw_data_stemm))"
      ],
      "metadata": {
        "id": "tr6YJRk3_lhQ"
      },
      "execution_count": 19,
      "outputs": []
    },
    {
      "cell_type": "code",
      "source": [
        "\n",
        "fdist = FreqDist(raw_data_stemm_flattern)\n",
        "fdist"
      ],
      "metadata": {
        "colab": {
          "base_uri": "https://localhost:8080/"
        },
        "outputId": "2ee876cb-bcff-4799-e1fb-899ab1cf2c9a",
        "id": "K2tF-ROg_NOx"
      },
      "execution_count": 20,
      "outputs": [
        {
          "output_type": "execute_result",
          "data": {
            "text/plain": [
              "FreqDist({'line': 12961, 'subject': 12432, 'organ': 11691, 'would': 9492, 'one': 9268, 'use': 8828, 'write': 8768, 'articl': 7017, 'like': 6499, 'get': 6304, ...})"
            ]
          },
          "metadata": {},
          "execution_count": 20
        }
      ]
    }
  ]
}